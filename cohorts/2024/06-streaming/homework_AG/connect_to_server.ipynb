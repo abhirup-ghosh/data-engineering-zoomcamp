{
 "cells": [
  {
   "cell_type": "markdown",
   "metadata": {},
   "source": [
    "```bash\n",
    "docker compose up -d\n",
    "docker exec -it redpanda-1 bash\n",
    "```"
   ]
  },
  {
   "cell_type": "code",
   "execution_count": 11,
   "metadata": {},
   "outputs": [
    {
     "data": {
      "text/plain": [
       "True"
      ]
     },
     "execution_count": 11,
     "metadata": {},
     "output_type": "execute_result"
    }
   ],
   "source": [
    "import json\n",
    "import time \n",
    "\n",
    "from kafka import KafkaProducer\n",
    "\n",
    "def json_serializer(data):\n",
    "    return json.dumps(data).encode('utf-8')\n",
    "\n",
    "server = 'localhost:9092'\n",
    "\n",
    "producer = KafkaProducer(\n",
    "    bootstrap_servers=[server],\n",
    "    value_serializer=json_serializer\n",
    ")\n",
    "\n",
    "producer.bootstrap_connected()"
   ]
  },
  {
   "cell_type": "code",
   "execution_count": 12,
   "metadata": {},
   "outputs": [
    {
     "name": "stdout",
     "output_type": "stream",
     "text": [
      "Sent: {'number': 0}\n",
      "Sent: {'number': 1}\n",
      "Sent: {'number': 2}\n",
      "Sent: {'number': 3}\n",
      "Sent: {'number': 4}\n",
      "Sent: {'number': 5}\n",
      "Sent: {'number': 6}\n",
      "Sent: {'number': 7}\n",
      "Sent: {'number': 8}\n",
      "Sent: {'number': 9}\n",
      "took 0.54 seconds\n",
      "sending messages took 0.54 seconds\n",
      "flushing took 0.00 seconds\n"
     ]
    }
   ],
   "source": [
    "t0 = time.time()\n",
    "\n",
    "topic_name = 'test-topic'\n",
    "\n",
    "for i in range(10):\n",
    "    message = {'number': i}\n",
    "    producer.send(topic_name, value=message)\n",
    "    print(f\"Sent: {message}\")\n",
    "    time.sleep(0.05)\n",
    "\n",
    "t0p5 = time.time()\n",
    "\n",
    "producer.flush()\n",
    "\n",
    "t1 = time.time()\n",
    "print(f'took {(t1 - t0):.2f} seconds')\n",
    "\n",
    "print(f'sending messages took {(t0p5 - t0):.2f} seconds')\n",
    "print(f'flushing took {(t1 - t0p5):.2f} seconds')"
   ]
  },
  {
   "cell_type": "code",
   "execution_count": 13,
   "metadata": {},
   "outputs": [
    {
     "name": "stderr",
     "output_type": "stream",
     "text": [
      "/var/folders/r6/4c778b992hv25hqynjsb5f380000gn/T/ipykernel_57760/2341753814.py:3: DtypeWarning: Columns (3) have mixed types. Specify dtype option on import or set low_memory=False.\n",
      "  df_green = pd.read_csv('./data/green_tripdata_2019-10.csv.gz', compression='gzip')\n"
     ]
    }
   ],
   "source": [
    "import pandas as pd\n",
    "\n",
    "df_green = pd.read_csv('./data/green_tripdata_2019-10.csv.gz', compression='gzip')"
   ]
  },
  {
   "cell_type": "code",
   "execution_count": 14,
   "metadata": {},
   "outputs": [],
   "source": [
    "cols_to_use = ['lpep_pickup_datetime',\n",
    "                'lpep_dropoff_datetime',\n",
    "                'PULocationID',\n",
    "                'DOLocationID',\n",
    "                'passenger_count',\n",
    "                'trip_distance',\n",
    "                'tip_amount']\n",
    "\n",
    "df_green = df_green[cols_to_use]"
   ]
  },
  {
   "cell_type": "code",
   "execution_count": 15,
   "metadata": {},
   "outputs": [
    {
     "data": {
      "text/html": [
       "<div>\n",
       "<style scoped>\n",
       "    .dataframe tbody tr th:only-of-type {\n",
       "        vertical-align: middle;\n",
       "    }\n",
       "\n",
       "    .dataframe tbody tr th {\n",
       "        vertical-align: top;\n",
       "    }\n",
       "\n",
       "    .dataframe thead th {\n",
       "        text-align: right;\n",
       "    }\n",
       "</style>\n",
       "<table border=\"1\" class=\"dataframe\">\n",
       "  <thead>\n",
       "    <tr style=\"text-align: right;\">\n",
       "      <th></th>\n",
       "      <th>lpep_pickup_datetime</th>\n",
       "      <th>lpep_dropoff_datetime</th>\n",
       "      <th>PULocationID</th>\n",
       "      <th>DOLocationID</th>\n",
       "      <th>passenger_count</th>\n",
       "      <th>trip_distance</th>\n",
       "      <th>tip_amount</th>\n",
       "    </tr>\n",
       "  </thead>\n",
       "  <tbody>\n",
       "    <tr>\n",
       "      <th>0</th>\n",
       "      <td>2019-10-01 00:26:02</td>\n",
       "      <td>2019-10-01 00:39:58</td>\n",
       "      <td>112</td>\n",
       "      <td>196</td>\n",
       "      <td>1.0</td>\n",
       "      <td>5.88</td>\n",
       "      <td>0.00</td>\n",
       "    </tr>\n",
       "    <tr>\n",
       "      <th>1</th>\n",
       "      <td>2019-10-01 00:18:11</td>\n",
       "      <td>2019-10-01 00:22:38</td>\n",
       "      <td>43</td>\n",
       "      <td>263</td>\n",
       "      <td>1.0</td>\n",
       "      <td>0.80</td>\n",
       "      <td>0.00</td>\n",
       "    </tr>\n",
       "    <tr>\n",
       "      <th>2</th>\n",
       "      <td>2019-10-01 00:09:31</td>\n",
       "      <td>2019-10-01 00:24:47</td>\n",
       "      <td>255</td>\n",
       "      <td>228</td>\n",
       "      <td>2.0</td>\n",
       "      <td>7.50</td>\n",
       "      <td>0.00</td>\n",
       "    </tr>\n",
       "    <tr>\n",
       "      <th>3</th>\n",
       "      <td>2019-10-01 00:37:40</td>\n",
       "      <td>2019-10-01 00:41:49</td>\n",
       "      <td>181</td>\n",
       "      <td>181</td>\n",
       "      <td>1.0</td>\n",
       "      <td>0.90</td>\n",
       "      <td>0.00</td>\n",
       "    </tr>\n",
       "    <tr>\n",
       "      <th>4</th>\n",
       "      <td>2019-10-01 00:08:13</td>\n",
       "      <td>2019-10-01 00:17:56</td>\n",
       "      <td>97</td>\n",
       "      <td>188</td>\n",
       "      <td>1.0</td>\n",
       "      <td>2.52</td>\n",
       "      <td>2.26</td>\n",
       "    </tr>\n",
       "    <tr>\n",
       "      <th>...</th>\n",
       "      <td>...</td>\n",
       "      <td>...</td>\n",
       "      <td>...</td>\n",
       "      <td>...</td>\n",
       "      <td>...</td>\n",
       "      <td>...</td>\n",
       "      <td>...</td>\n",
       "    </tr>\n",
       "    <tr>\n",
       "      <th>476381</th>\n",
       "      <td>2019-10-31 23:30:00</td>\n",
       "      <td>2019-11-01 00:00:00</td>\n",
       "      <td>65</td>\n",
       "      <td>102</td>\n",
       "      <td>NaN</td>\n",
       "      <td>7.04</td>\n",
       "      <td>0.00</td>\n",
       "    </tr>\n",
       "    <tr>\n",
       "      <th>476382</th>\n",
       "      <td>2019-10-31 23:03:00</td>\n",
       "      <td>2019-10-31 23:24:00</td>\n",
       "      <td>129</td>\n",
       "      <td>136</td>\n",
       "      <td>NaN</td>\n",
       "      <td>0.00</td>\n",
       "      <td>0.00</td>\n",
       "    </tr>\n",
       "    <tr>\n",
       "      <th>476383</th>\n",
       "      <td>2019-10-31 23:02:00</td>\n",
       "      <td>2019-10-31 23:23:00</td>\n",
       "      <td>61</td>\n",
       "      <td>222</td>\n",
       "      <td>NaN</td>\n",
       "      <td>3.90</td>\n",
       "      <td>0.00</td>\n",
       "    </tr>\n",
       "    <tr>\n",
       "      <th>476384</th>\n",
       "      <td>2019-10-31 23:42:00</td>\n",
       "      <td>2019-10-31 23:56:00</td>\n",
       "      <td>76</td>\n",
       "      <td>39</td>\n",
       "      <td>NaN</td>\n",
       "      <td>3.08</td>\n",
       "      <td>0.00</td>\n",
       "    </tr>\n",
       "    <tr>\n",
       "      <th>476385</th>\n",
       "      <td>2019-10-31 23:23:00</td>\n",
       "      <td>2019-10-31 23:56:00</td>\n",
       "      <td>56</td>\n",
       "      <td>215</td>\n",
       "      <td>NaN</td>\n",
       "      <td>6.84</td>\n",
       "      <td>0.00</td>\n",
       "    </tr>\n",
       "  </tbody>\n",
       "</table>\n",
       "<p>476386 rows × 7 columns</p>\n",
       "</div>"
      ],
      "text/plain": [
       "       lpep_pickup_datetime lpep_dropoff_datetime  PULocationID  DOLocationID  \\\n",
       "0       2019-10-01 00:26:02   2019-10-01 00:39:58           112           196   \n",
       "1       2019-10-01 00:18:11   2019-10-01 00:22:38            43           263   \n",
       "2       2019-10-01 00:09:31   2019-10-01 00:24:47           255           228   \n",
       "3       2019-10-01 00:37:40   2019-10-01 00:41:49           181           181   \n",
       "4       2019-10-01 00:08:13   2019-10-01 00:17:56            97           188   \n",
       "...                     ...                   ...           ...           ...   \n",
       "476381  2019-10-31 23:30:00   2019-11-01 00:00:00            65           102   \n",
       "476382  2019-10-31 23:03:00   2019-10-31 23:24:00           129           136   \n",
       "476383  2019-10-31 23:02:00   2019-10-31 23:23:00            61           222   \n",
       "476384  2019-10-31 23:42:00   2019-10-31 23:56:00            76            39   \n",
       "476385  2019-10-31 23:23:00   2019-10-31 23:56:00            56           215   \n",
       "\n",
       "        passenger_count  trip_distance  tip_amount  \n",
       "0                   1.0           5.88        0.00  \n",
       "1                   1.0           0.80        0.00  \n",
       "2                   2.0           7.50        0.00  \n",
       "3                   1.0           0.90        0.00  \n",
       "4                   1.0           2.52        2.26  \n",
       "...                 ...            ...         ...  \n",
       "476381              NaN           7.04        0.00  \n",
       "476382              NaN           0.00        0.00  \n",
       "476383              NaN           3.90        0.00  \n",
       "476384              NaN           3.08        0.00  \n",
       "476385              NaN           6.84        0.00  \n",
       "\n",
       "[476386 rows x 7 columns]"
      ]
     },
     "execution_count": 15,
     "metadata": {},
     "output_type": "execute_result"
    }
   ],
   "source": [
    "df_green"
   ]
  },
  {
   "cell_type": "code",
   "execution_count": 16,
   "metadata": {},
   "outputs": [
    {
     "name": "stdout",
     "output_type": "stream",
     "text": [
      "{'lpep_pickup_datetime': '2019-10-01 00:26:02', 'lpep_dropoff_datetime': '2019-10-01 00:39:58', 'PULocationID': 112, 'DOLocationID': 196, 'passenger_count': 1.0, 'trip_distance': 5.88, 'tip_amount': 0.0}\n"
     ]
    }
   ],
   "source": [
    "for row in df_green.itertuples(index=False):\n",
    "    row_dict = {col: getattr(row, col) for col in row._fields}\n",
    "    print(row_dict)\n",
    "    break"
   ]
  },
  {
   "cell_type": "markdown",
   "metadata": {},
   "source": [
    "```\n",
    "redpanda@1e7e76f85ee5:/$ rpk topic create green-trips\n",
    "TOPIC        STATUS\n",
    "green-trips  OK\n",
    "```"
   ]
  },
  {
   "cell_type": "code",
   "execution_count": 17,
   "metadata": {},
   "outputs": [
    {
     "name": "stdout",
     "output_type": "stream",
     "text": [
      "Row(lpep_pickup_datetime='2019-10-01 00:26:02', lpep_dropoff_datetime='2019-10-01 00:39:58', PULocationID=112, DOLocationID=196, passenger_count=1.0, trip_distance=5.88, tip_amount=0.0)\n",
      "Row(lpep_pickup_datetime='2019-10-01 00:57:44', lpep_dropoff_datetime='2019-10-01 01:06:59', PULocationID=25, DOLocationID=228, passenger_count=1.0, trip_distance=2.62, tip_amount=0.0)\n",
      "Row(lpep_pickup_datetime='2019-10-01 14:32:40', lpep_dropoff_datetime='2019-10-01 14:36:14', PULocationID=25, DOLocationID=40, passenger_count=1.0, trip_distance=0.65, tip_amount=0.0)\n",
      "Row(lpep_pickup_datetime='2019-10-01 17:04:41', lpep_dropoff_datetime='2019-10-01 17:40:25', PULocationID=244, DOLocationID=233, passenger_count=1.0, trip_distance=9.05, tip_amount=7.11)\n",
      "Row(lpep_pickup_datetime='2019-10-02 07:22:35', lpep_dropoff_datetime='2019-10-02 07:37:34', PULocationID=74, DOLocationID=263, passenger_count=1.0, trip_distance=2.21, tip_amount=2.26)\n",
      "Row(lpep_pickup_datetime='2019-10-02 13:13:26', lpep_dropoff_datetime='2019-10-02 13:20:47', PULocationID=33, DOLocationID=25, passenger_count=1.0, trip_distance=1.01, tip_amount=1.46)\n",
      "Row(lpep_pickup_datetime='2019-10-02 18:57:18', lpep_dropoff_datetime='2019-10-02 19:18:39', PULocationID=41, DOLocationID=74, passenger_count=1.0, trip_distance=1.32, tip_amount=3.06)\n",
      "Row(lpep_pickup_datetime='2019-10-03 05:10:56', lpep_dropoff_datetime='2019-10-03 05:20:08', PULocationID=75, DOLocationID=42, passenger_count=1.0, trip_distance=2.72, tip_amount=0.0)\n",
      "Row(lpep_pickup_datetime='2019-10-03 12:01:29', lpep_dropoff_datetime='2019-10-03 12:12:32', PULocationID=16, DOLocationID=98, passenger_count=2.0, trip_distance=2.71, tip_amount=0.0)\n",
      "Row(lpep_pickup_datetime='2019-10-03 17:34:33', lpep_dropoff_datetime='2019-10-03 17:40:37', PULocationID=41, DOLocationID=74, passenger_count=1.0, trip_distance=0.73, tip_amount=0.0)\n",
      "Row(lpep_pickup_datetime='2019-10-03 21:41:17', lpep_dropoff_datetime='2019-10-03 22:00:34', PULocationID=74, DOLocationID=239, passenger_count=1.0, trip_distance=3.43, tip_amount=4.64)\n",
      "Row(lpep_pickup_datetime='2019-10-04 09:37:32', lpep_dropoff_datetime='2019-10-04 09:51:51', PULocationID=166, DOLocationID=42, passenger_count=1.0, trip_distance=1.65, tip_amount=0.0)\n",
      "Row(lpep_pickup_datetime='2019-10-04 14:12:39', lpep_dropoff_datetime='2019-10-04 14:26:59', PULocationID=205, DOLocationID=10, passenger_count=1.0, trip_distance=1.46, tip_amount=0.0)\n",
      "Row(lpep_pickup_datetime='2019-10-04 17:24:46', lpep_dropoff_datetime='2019-10-04 17:40:32', PULocationID=166, DOLocationID=75, passenger_count=2.0, trip_distance=2.75, tip_amount=0.0)\n",
      "Row(lpep_pickup_datetime='2019-10-04 21:49:19', lpep_dropoff_datetime='2019-10-04 22:05:42', PULocationID=33, DOLocationID=62, passenger_count=1.0, trip_distance=3.22, tip_amount=0.0)\n",
      "Row(lpep_pickup_datetime='2019-10-05 08:31:24', lpep_dropoff_datetime='2019-10-05 08:42:17', PULocationID=166, DOLocationID=239, passenger_count=1.0, trip_distance=2.6, tip_amount=2.8)\n",
      "Row(lpep_pickup_datetime='2019-10-05 14:24:43', lpep_dropoff_datetime='2019-10-05 14:43:49', PULocationID=89, DOLocationID=61, passenger_count=1.0, trip_distance=4.07, tip_amount=0.0)\n",
      "Row(lpep_pickup_datetime='2019-10-05 17:13:10', lpep_dropoff_datetime='2019-10-05 17:27:25', PULocationID=260, DOLocationID=179, passenger_count=1.0, trip_distance=2.36, tip_amount=2.36)\n",
      "Row(lpep_pickup_datetime='2019-10-05 22:15:38', lpep_dropoff_datetime='2019-10-05 22:33:32', PULocationID=37, DOLocationID=35, passenger_count=2.0, trip_distance=3.55, tip_amount=0.0)\n",
      "Row(lpep_pickup_datetime='2019-10-06 10:40:16', lpep_dropoff_datetime='2019-10-06 10:42:32', PULocationID=41, DOLocationID=41, passenger_count=5.0, trip_distance=0.44, tip_amount=0.2)\n",
      "Row(lpep_pickup_datetime='2019-10-06 15:02:56', lpep_dropoff_datetime='2019-10-06 15:12:40', PULocationID=95, DOLocationID=95, passenger_count=1.0, trip_distance=1.04, tip_amount=0.0)\n",
      "Row(lpep_pickup_datetime='2019-10-06 23:06:50', lpep_dropoff_datetime='2019-10-06 23:14:51', PULocationID=157, DOLocationID=192, passenger_count=2.0, trip_distance=4.38, tip_amount=0.0)\n",
      "Row(lpep_pickup_datetime='2019-10-07 11:12:56', lpep_dropoff_datetime='2019-10-07 11:25:06', PULocationID=243, DOLocationID=116, passenger_count=1.0, trip_distance=2.14, tip_amount=0.0)\n",
      "Row(lpep_pickup_datetime='2019-10-07 17:07:01', lpep_dropoff_datetime='2019-10-07 17:18:20', PULocationID=75, DOLocationID=143, passenger_count=1.0, trip_distance=2.4, tip_amount=3.6)\n",
      "Row(lpep_pickup_datetime='2019-10-07 23:58:40', lpep_dropoff_datetime='2019-10-08 00:01:56', PULocationID=41, DOLocationID=41, passenger_count=1.0, trip_distance=0.64, tip_amount=0.0)\n",
      "Row(lpep_pickup_datetime='2019-10-08 10:46:39', lpep_dropoff_datetime='2019-10-08 10:57:04', PULocationID=166, DOLocationID=42, passenger_count=2.0, trip_distance=2.06, tip_amount=0.0)\n",
      "Row(lpep_pickup_datetime='2019-10-08 15:39:19', lpep_dropoff_datetime='2019-10-08 15:49:50', PULocationID=35, DOLocationID=37, passenger_count=2.0, trip_distance=1.31, tip_amount=1.0)\n",
      "Row(lpep_pickup_datetime='2019-10-08 19:27:58', lpep_dropoff_datetime='2019-10-08 19:34:08', PULocationID=74, DOLocationID=41, passenger_count=1.0, trip_distance=0.92, tip_amount=0.0)\n",
      "Row(lpep_pickup_datetime='2019-10-09 08:32:54', lpep_dropoff_datetime='2019-10-09 08:45:03', PULocationID=166, DOLocationID=74, passenger_count=1.0, trip_distance=1.7, tip_amount=0.0)\n",
      "Row(lpep_pickup_datetime='2019-10-09 14:34:36', lpep_dropoff_datetime='2019-10-09 14:38:33', PULocationID=25, DOLocationID=40, passenger_count=1.0, trip_distance=1.02, tip_amount=1.16)\n",
      "Row(lpep_pickup_datetime='2019-10-09 18:12:45', lpep_dropoff_datetime='2019-10-09 18:33:41', PULocationID=166, DOLocationID=246, passenger_count=1.0, trip_distance=4.78, tip_amount=4.51)\n",
      "Row(lpep_pickup_datetime='2019-10-10 00:40:03', lpep_dropoff_datetime='2019-10-10 00:43:32', PULocationID=112, DOLocationID=112, passenger_count=1.0, trip_distance=0.66, tip_amount=1.45)\n",
      "Row(lpep_pickup_datetime='2019-10-10 13:04:23', lpep_dropoff_datetime='2019-10-10 13:35:53', PULocationID=181, DOLocationID=155, passenger_count=1.0, trip_distance=0.0, tip_amount=0.0)\n",
      "Row(lpep_pickup_datetime='2019-10-10 18:31:12', lpep_dropoff_datetime='2019-10-10 18:55:35', PULocationID=97, DOLocationID=61, passenger_count=1.0, trip_distance=3.55, tip_amount=0.0)\n",
      "Row(lpep_pickup_datetime='2019-10-10 22:15:20', lpep_dropoff_datetime='2019-10-10 22:23:49', PULocationID=145, DOLocationID=7, passenger_count=1.0, trip_distance=1.15, tip_amount=0.0)\n",
      "Row(lpep_pickup_datetime='2019-10-11 10:14:05', lpep_dropoff_datetime='2019-10-11 10:48:34', PULocationID=24, DOLocationID=234, passenger_count=5.0, trip_distance=6.86, tip_amount=0.0)\n",
      "Row(lpep_pickup_datetime='2019-10-11 14:49:37', lpep_dropoff_datetime='2019-10-11 14:58:10', PULocationID=82, DOLocationID=138, passenger_count=1.0, trip_distance=3.2, tip_amount=2.36)\n",
      "Row(lpep_pickup_datetime='2019-10-11 18:55:02', lpep_dropoff_datetime='2019-10-11 19:07:27', PULocationID=75, DOLocationID=239, passenger_count=1.0, trip_distance=2.0, tip_amount=0.0)\n",
      "Row(lpep_pickup_datetime='2019-10-11 22:16:37', lpep_dropoff_datetime='2019-10-11 22:31:55', PULocationID=97, DOLocationID=228, passenger_count=2.0, trip_distance=2.9, tip_amount=3.55)\n",
      "Row(lpep_pickup_datetime='2019-10-12 10:39:54', lpep_dropoff_datetime='2019-10-12 10:47:14', PULocationID=166, DOLocationID=41, passenger_count=1.0, trip_distance=1.15, tip_amount=0.0)\n",
      "Row(lpep_pickup_datetime='2019-10-12 15:19:49', lpep_dropoff_datetime='2019-10-12 15:26:10', PULocationID=65, DOLocationID=66, passenger_count=1.0, trip_distance=0.9, tip_amount=0.0)\n",
      "Row(lpep_pickup_datetime='2019-10-12 19:13:44', lpep_dropoff_datetime='2019-10-12 19:19:41', PULocationID=74, DOLocationID=74, passenger_count=6.0, trip_distance=1.11, tip_amount=0.0)\n",
      "Row(lpep_pickup_datetime='2019-10-13 01:01:33', lpep_dropoff_datetime='2019-10-13 01:15:28', PULocationID=7, DOLocationID=129, passenger_count=1.0, trip_distance=2.1, tip_amount=2.46)\n",
      "Row(lpep_pickup_datetime='2019-10-13 12:56:32', lpep_dropoff_datetime='2019-10-13 13:06:29', PULocationID=41, DOLocationID=42, passenger_count=1.0, trip_distance=1.59, tip_amount=0.0)\n",
      "Row(lpep_pickup_datetime='2019-10-13 18:53:08', lpep_dropoff_datetime='2019-10-13 19:03:45', PULocationID=166, DOLocationID=74, passenger_count=1.0, trip_distance=1.77, tip_amount=0.0)\n",
      "Row(lpep_pickup_datetime='2019-10-14 02:33:39', lpep_dropoff_datetime='2019-10-14 03:00:50', PULocationID=129, DOLocationID=116, passenger_count=1.0, trip_distance=8.41, tip_amount=0.0)\n",
      "Row(lpep_pickup_datetime='2019-10-14 14:03:37', lpep_dropoff_datetime='2019-10-14 14:13:08', PULocationID=41, DOLocationID=75, passenger_count=1.0, trip_distance=1.22, tip_amount=0.0)\n",
      "Row(lpep_pickup_datetime='2019-10-14 20:22:11', lpep_dropoff_datetime='2019-10-14 20:28:30', PULocationID=49, DOLocationID=225, passenger_count=1.0, trip_distance=1.21, tip_amount=0.0)\n",
      "Row(lpep_pickup_datetime='2019-10-15 10:53:35', lpep_dropoff_datetime='2019-10-16 09:58:45', PULocationID=42, DOLocationID=42, passenger_count=1.0, trip_distance=0.47, tip_amount=0.0)\n",
      "Row(lpep_pickup_datetime='2019-10-15 16:10:53', lpep_dropoff_datetime='2019-10-15 16:11:26', PULocationID=264, DOLocationID=264, passenger_count=1.0, trip_distance=0.0, tip_amount=0.0)\n",
      "Row(lpep_pickup_datetime='2019-10-15 20:42:42', lpep_dropoff_datetime='2019-10-15 20:51:35', PULocationID=74, DOLocationID=236, passenger_count=1.0, trip_distance=1.86, tip_amount=1.5)\n",
      "Row(lpep_pickup_datetime='2019-10-16 09:02:03', lpep_dropoff_datetime='2019-10-16 09:06:52', PULocationID=226, DOLocationID=260, passenger_count=1.0, trip_distance=0.86, tip_amount=0.0)\n",
      "Row(lpep_pickup_datetime='2019-10-16 12:30:37', lpep_dropoff_datetime='2019-10-16 12:49:37', PULocationID=165, DOLocationID=210, passenger_count=1.0, trip_distance=2.65, tip_amount=0.0)\n",
      "Row(lpep_pickup_datetime='2019-10-16 17:58:47', lpep_dropoff_datetime='2019-10-16 18:03:32', PULocationID=97, DOLocationID=65, passenger_count=1.0, trip_distance=0.72, tip_amount=1.02)\n",
      "Row(lpep_pickup_datetime='2019-10-16 21:05:42', lpep_dropoff_datetime='2019-10-16 21:40:27', PULocationID=33, DOLocationID=91, passenger_count=1.0, trip_distance=8.25, tip_amount=0.0)\n",
      "Row(lpep_pickup_datetime='2019-10-17 09:02:56', lpep_dropoff_datetime='2019-10-17 09:35:33', PULocationID=43, DOLocationID=100, passenger_count=1.0, trip_distance=3.78, tip_amount=7.36)\n",
      "Row(lpep_pickup_datetime='2019-10-17 13:55:24', lpep_dropoff_datetime='2019-10-17 14:08:01', PULocationID=74, DOLocationID=75, passenger_count=1.0, trip_distance=1.3, tip_amount=2.16)\n",
      "Row(lpep_pickup_datetime='2019-10-17 16:03:59', lpep_dropoff_datetime='2019-10-17 16:04:16', PULocationID=97, DOLocationID=97, passenger_count=1.0, trip_distance=0.0, tip_amount=0.0)\n",
      "Row(lpep_pickup_datetime='2019-10-17 20:11:48', lpep_dropoff_datetime='2019-10-17 20:21:09', PULocationID=75, DOLocationID=237, passenger_count=1.0, trip_distance=1.71, tip_amount=2.51)\n",
      "Row(lpep_pickup_datetime='2019-10-18 07:08:13', lpep_dropoff_datetime='2019-10-18 07:22:21', PULocationID=74, DOLocationID=236, passenger_count=1.0, trip_distance=1.94, tip_amount=0.0)\n",
      "Row(lpep_pickup_datetime='2019-10-18 11:04:36', lpep_dropoff_datetime='2019-10-18 11:13:27', PULocationID=74, DOLocationID=42, passenger_count=1.0, trip_distance=1.18, tip_amount=1.0)\n",
      "Row(lpep_pickup_datetime='2019-10-18 16:34:04', lpep_dropoff_datetime='2019-10-18 16:39:47', PULocationID=75, DOLocationID=236, passenger_count=1.0, trip_distance=1.0, tip_amount=2.0)\n",
      "Row(lpep_pickup_datetime='2019-10-18 18:37:14', lpep_dropoff_datetime='2019-10-18 18:48:28', PULocationID=106, DOLocationID=195, passenger_count=1.0, trip_distance=2.15, tip_amount=2.95)\n",
      "Row(lpep_pickup_datetime='2019-10-18 22:31:08', lpep_dropoff_datetime='2019-10-18 22:41:49', PULocationID=181, DOLocationID=188, passenger_count=2.0, trip_distance=2.12, tip_amount=1.0)\n",
      "Row(lpep_pickup_datetime='2019-10-19 09:19:34', lpep_dropoff_datetime='2019-10-19 09:28:23', PULocationID=146, DOLocationID=146, passenger_count=5.0, trip_distance=1.08, tip_amount=2.34)\n",
      "Row(lpep_pickup_datetime='2019-10-19 14:25:01', lpep_dropoff_datetime='2019-10-19 14:31:32', PULocationID=41, DOLocationID=41, passenger_count=1.0, trip_distance=0.5, tip_amount=1.25)\n",
      "Row(lpep_pickup_datetime='2019-10-19 19:04:20', lpep_dropoff_datetime='2019-10-19 19:27:38', PULocationID=65, DOLocationID=256, passenger_count=1.0, trip_distance=3.2, tip_amount=3.56)\n",
      "Row(lpep_pickup_datetime='2019-10-19 21:49:50', lpep_dropoff_datetime='2019-10-19 21:59:06', PULocationID=25, DOLocationID=190, passenger_count=3.0, trip_distance=1.0, tip_amount=0.0)\n",
      "Row(lpep_pickup_datetime='2019-10-20 03:44:02', lpep_dropoff_datetime='2019-10-21 02:55:48', PULocationID=82, DOLocationID=196, passenger_count=1.0, trip_distance=2.14, tip_amount=2.2)\n",
      "Row(lpep_pickup_datetime='2019-10-20 12:58:57', lpep_dropoff_datetime='2019-10-20 13:20:34', PULocationID=152, DOLocationID=141, passenger_count=1.0, trip_distance=4.1, tip_amount=0.0)\n",
      "Row(lpep_pickup_datetime='2019-10-20 18:51:12', lpep_dropoff_datetime='2019-10-20 19:01:12', PULocationID=97, DOLocationID=33, passenger_count=1.0, trip_distance=1.55, tip_amount=1.86)\n",
      "Row(lpep_pickup_datetime='2019-10-21 06:19:41', lpep_dropoff_datetime='2019-10-21 06:41:58', PULocationID=179, DOLocationID=160, passenger_count=1.0, trip_distance=0.0, tip_amount=0.0)\n",
      "Row(lpep_pickup_datetime='2019-10-21 13:28:13', lpep_dropoff_datetime='2019-10-21 13:48:08', PULocationID=41, DOLocationID=140, passenger_count=1.0, trip_distance=3.87, tip_amount=0.0)\n",
      "Row(lpep_pickup_datetime='2019-10-21 18:26:42', lpep_dropoff_datetime='2019-10-21 18:26:50', PULocationID=260, DOLocationID=260, passenger_count=1.0, trip_distance=0.0, tip_amount=0.01)\n",
      "Row(lpep_pickup_datetime='2019-10-22 08:15:27', lpep_dropoff_datetime='2019-10-22 08:31:17', PULocationID=24, DOLocationID=75, passenger_count=1.0, trip_distance=1.08, tip_amount=2.0)\n",
      "Row(lpep_pickup_datetime='2019-10-22 13:12:05', lpep_dropoff_datetime='2019-10-22 13:17:30', PULocationID=33, DOLocationID=40, passenger_count=1.0, trip_distance=1.01, tip_amount=1.26)\n",
      "Row(lpep_pickup_datetime='2019-10-22 17:05:16', lpep_dropoff_datetime='2019-10-22 17:30:34', PULocationID=116, DOLocationID=263, passenger_count=1.0, trip_distance=3.72, tip_amount=3.5)\n",
      "Row(lpep_pickup_datetime='2019-10-22 23:07:17', lpep_dropoff_datetime='2019-10-22 23:11:28', PULocationID=7, DOLocationID=7, passenger_count=1.0, trip_distance=0.86, tip_amount=0.0)\n",
      "Row(lpep_pickup_datetime='2019-10-23 12:15:40', lpep_dropoff_datetime='2019-10-23 12:41:24', PULocationID=66, DOLocationID=262, passenger_count=1.0, trip_distance=7.97, tip_amount=5.91)\n",
      "Row(lpep_pickup_datetime='2019-10-23 16:34:16', lpep_dropoff_datetime='2019-10-23 16:52:54', PULocationID=196, DOLocationID=134, passenger_count=1.0, trip_distance=2.34, tip_amount=2.0)\n",
      "Row(lpep_pickup_datetime='2019-10-23 20:29:32', lpep_dropoff_datetime='2019-10-23 21:17:56', PULocationID=210, DOLocationID=61, passenger_count=3.0, trip_distance=7.18, tip_amount=0.0)\n",
      "Row(lpep_pickup_datetime='2019-10-24 08:41:28', lpep_dropoff_datetime='2019-10-24 08:56:02', PULocationID=74, DOLocationID=151, passenger_count=6.0, trip_distance=2.08, tip_amount=2.46)\n",
      "Row(lpep_pickup_datetime='2019-10-24 14:27:59', lpep_dropoff_datetime='2019-10-24 14:47:48', PULocationID=42, DOLocationID=75, passenger_count=1.0, trip_distance=2.66, tip_amount=3.06)\n",
      "Row(lpep_pickup_datetime='2019-10-24 18:41:16', lpep_dropoff_datetime='2019-10-24 18:57:56', PULocationID=66, DOLocationID=255, passenger_count=1.0, trip_distance=3.4, tip_amount=4.2)\n",
      "Row(lpep_pickup_datetime='2019-10-25 00:23:59', lpep_dropoff_datetime='2019-10-25 00:34:47', PULocationID=7, DOLocationID=145, passenger_count=1.0, trip_distance=2.17, tip_amount=0.0)\n",
      "Row(lpep_pickup_datetime='2019-10-25 11:45:47', lpep_dropoff_datetime='2019-10-25 12:02:46', PULocationID=49, DOLocationID=256, passenger_count=1.0, trip_distance=2.23, tip_amount=2.56)\n",
      "Row(lpep_pickup_datetime='2019-10-25 16:05:18', lpep_dropoff_datetime='2019-10-25 16:19:27', PULocationID=95, DOLocationID=121, passenger_count=5.0, trip_distance=2.83, tip_amount=2.07)\n",
      "Row(lpep_pickup_datetime='2019-10-25 21:52:06', lpep_dropoff_datetime='2019-10-25 22:02:24', PULocationID=179, DOLocationID=146, passenger_count=1.0, trip_distance=1.89, tip_amount=2.58)\n",
      "Row(lpep_pickup_datetime='2019-10-26 05:11:37', lpep_dropoff_datetime='2019-10-26 05:35:09', PULocationID=15, DOLocationID=237, passenger_count=1.0, trip_distance=0.0, tip_amount=0.0)\n",
      "Row(lpep_pickup_datetime='2019-10-26 14:16:04', lpep_dropoff_datetime='2019-10-26 14:45:53', PULocationID=69, DOLocationID=236, passenger_count=1.0, trip_distance=6.57, tip_amount=0.0)\n",
      "Row(lpep_pickup_datetime='2019-10-26 19:59:46', lpep_dropoff_datetime='2019-10-26 20:13:20', PULocationID=97, DOLocationID=256, passenger_count=1.0, trip_distance=2.93, tip_amount=2.66)\n",
      "Row(lpep_pickup_datetime='2019-10-27 01:22:02', lpep_dropoff_datetime='2019-10-27 01:46:36', PULocationID=95, DOLocationID=198, passenger_count=1.0, trip_distance=4.8, tip_amount=4.26)\n",
      "Row(lpep_pickup_datetime='2019-10-27 14:48:14', lpep_dropoff_datetime='2019-10-27 15:10:23', PULocationID=25, DOLocationID=62, passenger_count=1.0, trip_distance=3.1, tip_amount=0.0)\n",
      "Row(lpep_pickup_datetime='2019-10-27 21:56:23', lpep_dropoff_datetime='2019-10-27 22:42:32', PULocationID=72, DOLocationID=117, passenger_count=1.0, trip_distance=0.0, tip_amount=0.0)\n",
      "Row(lpep_pickup_datetime='2019-10-28 11:11:10', lpep_dropoff_datetime='2019-10-28 11:16:08', PULocationID=116, DOLocationID=42, passenger_count=1.0, trip_distance=0.87, tip_amount=0.0)\n",
      "Row(lpep_pickup_datetime='2019-10-28 16:47:53', lpep_dropoff_datetime='2019-10-28 17:00:17', PULocationID=223, DOLocationID=179, passenger_count=5.0, trip_distance=1.52, tip_amount=0.0)\n",
      "Row(lpep_pickup_datetime='2019-10-28 21:43:33', lpep_dropoff_datetime='2019-10-28 21:50:10', PULocationID=66, DOLocationID=195, passenger_count=1.0, trip_distance=2.59, tip_amount=2.58)\n",
      "Row(lpep_pickup_datetime='2019-10-29 10:23:46', lpep_dropoff_datetime='2019-10-29 10:29:09', PULocationID=82, DOLocationID=56, passenger_count=1.0, trip_distance=0.73, tip_amount=0.0)\n",
      "Row(lpep_pickup_datetime='2019-10-29 16:58:00', lpep_dropoff_datetime='2019-10-29 17:10:59', PULocationID=74, DOLocationID=166, passenger_count=1.0, trip_distance=1.21, tip_amount=0.0)\n",
      "Row(lpep_pickup_datetime='2019-10-29 20:55:54', lpep_dropoff_datetime='2019-10-29 20:59:40', PULocationID=75, DOLocationID=236, passenger_count=1.0, trip_distance=0.9, tip_amount=1.81)\n",
      "Row(lpep_pickup_datetime='2019-10-30 09:09:26', lpep_dropoff_datetime='2019-10-30 09:14:21', PULocationID=244, DOLocationID=244, passenger_count=1.0, trip_distance=0.6, tip_amount=1.16)\n",
      "Row(lpep_pickup_datetime='2019-10-30 15:49:08', lpep_dropoff_datetime='2019-10-30 15:53:21', PULocationID=166, DOLocationID=166, passenger_count=1.0, trip_distance=0.64, tip_amount=0.0)\n",
      "Row(lpep_pickup_datetime='2019-10-30 21:57:53', lpep_dropoff_datetime='2019-10-30 21:58:06', PULocationID=247, DOLocationID=247, passenger_count=1.0, trip_distance=0.0, tip_amount=0.0)\n",
      "Row(lpep_pickup_datetime='2019-10-31 09:43:11', lpep_dropoff_datetime='2019-10-31 09:53:32', PULocationID=129, DOLocationID=7, passenger_count=1.0, trip_distance=2.21, tip_amount=0.0)\n",
      "Row(lpep_pickup_datetime='2019-10-31 15:29:56', lpep_dropoff_datetime='2019-10-31 15:37:54', PULocationID=223, DOLocationID=179, passenger_count=1.0, trip_distance=1.04, tip_amount=0.0)\n",
      "Row(lpep_pickup_datetime='2019-10-31 18:49:07', lpep_dropoff_datetime='2019-10-31 18:58:01', PULocationID=74, DOLocationID=41, passenger_count=1.0, trip_distance=1.3, tip_amount=2.0)\n",
      "Row(lpep_pickup_datetime='2019-10-01 05:31:00', lpep_dropoff_datetime='2019-10-01 05:58:00', PULocationID=78, DOLocationID=107, passenger_count=nan, trip_distance=12.19, tip_amount=0.0)\n",
      "Row(lpep_pickup_datetime='2019-10-02 14:54:00', lpep_dropoff_datetime='2019-10-02 15:37:00', PULocationID=91, DOLocationID=37, passenger_count=nan, trip_distance=5.98, tip_amount=0.0)\n",
      "Row(lpep_pickup_datetime='2019-10-03 18:21:00', lpep_dropoff_datetime='2019-10-03 18:40:00', PULocationID=16, DOLocationID=92, passenger_count=nan, trip_distance=2.88, tip_amount=0.0)\n",
      "Row(lpep_pickup_datetime='2019-10-04 23:45:00', lpep_dropoff_datetime='2019-10-05 00:13:00', PULocationID=137, DOLocationID=167, passenger_count=nan, trip_distance=8.99, tip_amount=0.0)\n",
      "Row(lpep_pickup_datetime='2019-10-07 07:42:00', lpep_dropoff_datetime='2019-10-07 08:40:00', PULocationID=188, DOLocationID=226, passenger_count=nan, trip_distance=7.57, tip_amount=0.0)\n",
      "Row(lpep_pickup_datetime='2019-10-08 12:20:00', lpep_dropoff_datetime='2019-10-08 13:08:00', PULocationID=89, DOLocationID=242, passenger_count=nan, trip_distance=25.04, tip_amount=0.0)\n",
      "Row(lpep_pickup_datetime='2019-10-09 13:38:00', lpep_dropoff_datetime='2019-10-09 13:44:00', PULocationID=3, DOLocationID=3, passenger_count=nan, trip_distance=1.27, tip_amount=0.0)\n",
      "Row(lpep_pickup_datetime='2019-10-10 11:25:00', lpep_dropoff_datetime='2019-10-10 11:45:00', PULocationID=165, DOLocationID=21, passenger_count=nan, trip_distance=2.54, tip_amount=0.0)\n",
      "Row(lpep_pickup_datetime='2019-10-11 11:57:00', lpep_dropoff_datetime='2019-10-11 12:36:00', PULocationID=70, DOLocationID=61, passenger_count=nan, trip_distance=13.69, tip_amount=0.0)\n",
      "Row(lpep_pickup_datetime='2019-10-12 13:35:00', lpep_dropoff_datetime='2019-10-12 13:47:00', PULocationID=19, DOLocationID=203, passenger_count=nan, trip_distance=5.52, tip_amount=0.0)\n",
      "Row(lpep_pickup_datetime='2019-10-14 09:18:00', lpep_dropoff_datetime='2019-10-14 09:47:00', PULocationID=76, DOLocationID=25, passenger_count=nan, trip_distance=7.17, tip_amount=0.0)\n",
      "Row(lpep_pickup_datetime='2019-10-15 15:05:00', lpep_dropoff_datetime='2019-10-15 15:24:00', PULocationID=123, DOLocationID=91, passenger_count=nan, trip_distance=3.53, tip_amount=0.0)\n",
      "Row(lpep_pickup_datetime='2019-10-16 14:11:00', lpep_dropoff_datetime='2019-10-16 14:55:00', PULocationID=130, DOLocationID=7, passenger_count=nan, trip_distance=12.36, tip_amount=0.0)\n",
      "Row(lpep_pickup_datetime='2019-10-17 16:30:00', lpep_dropoff_datetime='2019-10-17 16:42:00', PULocationID=241, DOLocationID=31, passenger_count=nan, trip_distance=3.07, tip_amount=0.0)\n",
      "Row(lpep_pickup_datetime='2019-10-18 19:39:00', lpep_dropoff_datetime='2019-10-18 20:04:00', PULocationID=166, DOLocationID=169, passenger_count=nan, trip_distance=4.97, tip_amount=0.0)\n",
      "Row(lpep_pickup_datetime='2019-10-20 13:18:00', lpep_dropoff_datetime='2019-10-20 14:02:00', PULocationID=239, DOLocationID=150, passenger_count=nan, trip_distance=19.73, tip_amount=0.0)\n",
      "Row(lpep_pickup_datetime='2019-10-21 14:45:00', lpep_dropoff_datetime='2019-10-21 14:56:00', PULocationID=71, DOLocationID=155, passenger_count=nan, trip_distance=2.01, tip_amount=0.0)\n",
      "Row(lpep_pickup_datetime='2019-10-22 13:55:00', lpep_dropoff_datetime='2019-10-22 14:16:00', PULocationID=167, DOLocationID=74, passenger_count=nan, trip_distance=2.76, tip_amount=0.0)\n",
      "Row(lpep_pickup_datetime='2019-10-23 11:00:00', lpep_dropoff_datetime='2019-10-23 11:36:00', PULocationID=220, DOLocationID=161, passenger_count=nan, trip_distance=10.57, tip_amount=0.0)\n",
      "Row(lpep_pickup_datetime='2019-10-24 06:07:00', lpep_dropoff_datetime='2019-10-24 06:41:00', PULocationID=181, DOLocationID=134, passenger_count=nan, trip_distance=15.2, tip_amount=0.0)\n",
      "Row(lpep_pickup_datetime='2019-10-24 17:15:00', lpep_dropoff_datetime='2019-10-24 17:49:00', PULocationID=235, DOLocationID=254, passenger_count=nan, trip_distance=3.82, tip_amount=0.0)\n",
      "Row(lpep_pickup_datetime='2019-10-25 18:57:00', lpep_dropoff_datetime='2019-10-25 19:15:00', PULocationID=78, DOLocationID=32, passenger_count=nan, trip_distance=3.27, tip_amount=0.0)\n",
      "Row(lpep_pickup_datetime='2019-10-27 14:25:00', lpep_dropoff_datetime='2019-10-27 14:41:00', PULocationID=133, DOLocationID=26, passenger_count=nan, trip_distance=1.65, tip_amount=0.0)\n",
      "Row(lpep_pickup_datetime='2019-10-28 18:03:00', lpep_dropoff_datetime='2019-10-28 18:56:00', PULocationID=75, DOLocationID=28, passenger_count=nan, trip_distance=13.69, tip_amount=0.0)\n",
      "Row(lpep_pickup_datetime='2019-10-29 15:34:00', lpep_dropoff_datetime='2019-10-29 16:29:00', PULocationID=14, DOLocationID=225, passenger_count=nan, trip_distance=9.8, tip_amount=0.0)\n",
      "Row(lpep_pickup_datetime='2019-10-30 14:46:00', lpep_dropoff_datetime='2019-10-30 15:04:00', PULocationID=42, DOLocationID=235, passenger_count=nan, trip_distance=2.65, tip_amount=0.0)\n",
      "took 39.64 seconds\n",
      "sending messages took 39.64 seconds\n",
      "flushing took 0.00 seconds\n"
     ]
    },
    {
     "name": "stdout",
     "output_type": "stream",
     "text": [
      "Row(lpep_pickup_datetime='2019-10-31 11:06:00', lpep_dropoff_datetime='2019-10-31 11:51:00', PULocationID=61, DOLocationID=79, passenger_count=nan, trip_distance=6.92, tip_amount=0.0)\n"
     ]
    }
   ],
   "source": [
    "t0 = time.time()\n",
    "\n",
    "topic_name = 'green-trips'\n",
    "\n",
    "for row in df_green.itertuples(index=False):\n",
    "    row_dict = {col: getattr(row, col) for col in row._fields}\n",
    "    producer.send(topic_name, value=row_dict)\n",
    "\n",
    "t0p5 = time.time()\n",
    "\n",
    "producer.flush()\n",
    "\n",
    "t1 = time.time()\n",
    "print(f'took {(t1 - t0):.2f} seconds')\n",
    "\n",
    "print(f'sending messages took {(t0p5 - t0):.2f} seconds')\n",
    "print(f'flushing took {(t1 - t0p5):.2f} seconds')"
   ]
  },
  {
   "cell_type": "code",
   "execution_count": 2,
   "metadata": {},
   "outputs": [],
   "source": [
    "import pyspark\n",
    "from pyspark.sql import SparkSession\n",
    "\n",
    "pyspark_version = pyspark.__version__\n",
    "kafka_jar_package = f\"org.apache.spark:spark-sql-kafka-0-10_2.12:{pyspark_version}\""
   ]
  },
  {
   "cell_type": "code",
   "execution_count": 3,
   "metadata": {},
   "outputs": [
    {
     "name": "stderr",
     "output_type": "stream",
     "text": [
      "24/03/14 12:44:56 WARN Utils: Your hostname, Andromeda.local resolves to a loopback address: 127.0.0.1; using 172.26.4.116 instead (on interface en0)\n",
      "24/03/14 12:44:56 WARN Utils: Set SPARK_LOCAL_IP if you need to bind to another address\n",
      "Ivy Default Cache set to: /Users/abhirupghosh/.ivy2/cache\n",
      "The jars for the packages stored in: /Users/abhirupghosh/.ivy2/jars\n",
      "org.apache.spark#spark-sql-kafka-0-10_2.12 added as a dependency\n",
      ":: resolving dependencies :: org.apache.spark#spark-submit-parent-4435bdd6-8030-4d13-ad31-afeb988f3df7;1.0\n",
      "\tconfs: [default]\n"
     ]
    },
    {
     "name": "stdout",
     "output_type": "stream",
     "text": [
      ":: loading settings :: url = jar:file:/Users/abhirupghosh/opt/anaconda3/envs/ml-zoomcamp/lib/python3.9/site-packages/pyspark/jars/ivy-2.5.1.jar!/org/apache/ivy/core/settings/ivysettings.xml\n"
     ]
    },
    {
     "name": "stderr",
     "output_type": "stream",
     "text": [
      "\tfound org.apache.spark#spark-sql-kafka-0-10_2.12;3.5.1 in central\n",
      "\tfound org.apache.spark#spark-token-provider-kafka-0-10_2.12;3.5.1 in central\n",
      "\tfound org.apache.kafka#kafka-clients;3.4.1 in central\n",
      "\tfound org.lz4#lz4-java;1.8.0 in central\n",
      "\tfound org.xerial.snappy#snappy-java;1.1.10.3 in central\n",
      "\tfound org.slf4j#slf4j-api;2.0.7 in central\n",
      "\tfound org.apache.hadoop#hadoop-client-runtime;3.3.4 in central\n",
      "\tfound org.apache.hadoop#hadoop-client-api;3.3.4 in central\n",
      "\tfound commons-logging#commons-logging;1.1.3 in central\n",
      "\tfound com.google.code.findbugs#jsr305;3.0.0 in central\n",
      "\tfound org.apache.commons#commons-pool2;2.11.1 in central\n",
      "downloading https://repo1.maven.org/maven2/org/apache/spark/spark-sql-kafka-0-10_2.12/3.5.1/spark-sql-kafka-0-10_2.12-3.5.1.jar ...\n",
      "\t[SUCCESSFUL ] org.apache.spark#spark-sql-kafka-0-10_2.12;3.5.1!spark-sql-kafka-0-10_2.12.jar (60ms)\n",
      "downloading https://repo1.maven.org/maven2/org/apache/spark/spark-token-provider-kafka-0-10_2.12/3.5.1/spark-token-provider-kafka-0-10_2.12-3.5.1.jar ...\n",
      "\t[SUCCESSFUL ] org.apache.spark#spark-token-provider-kafka-0-10_2.12;3.5.1!spark-token-provider-kafka-0-10_2.12.jar (39ms)\n",
      "downloading https://repo1.maven.org/maven2/org/apache/kafka/kafka-clients/3.4.1/kafka-clients-3.4.1.jar ...\n",
      "\t[SUCCESSFUL ] org.apache.kafka#kafka-clients;3.4.1!kafka-clients.jar (240ms)\n",
      "downloading https://repo1.maven.org/maven2/com/google/code/findbugs/jsr305/3.0.0/jsr305-3.0.0.jar ...\n",
      "\t[SUCCESSFUL ] com.google.code.findbugs#jsr305;3.0.0!jsr305.jar (34ms)\n",
      "downloading https://repo1.maven.org/maven2/org/apache/commons/commons-pool2/2.11.1/commons-pool2-2.11.1.jar ...\n",
      "\t[SUCCESSFUL ] org.apache.commons#commons-pool2;2.11.1!commons-pool2.jar (35ms)\n",
      "downloading https://repo1.maven.org/maven2/org/apache/hadoop/hadoop-client-runtime/3.3.4/hadoop-client-runtime-3.3.4.jar ...\n",
      "\t[SUCCESSFUL ] org.apache.hadoop#hadoop-client-runtime;3.3.4!hadoop-client-runtime.jar (1126ms)\n",
      "downloading https://repo1.maven.org/maven2/org/lz4/lz4-java/1.8.0/lz4-java-1.8.0.jar ...\n",
      "\t[SUCCESSFUL ] org.lz4#lz4-java;1.8.0!lz4-java.jar (59ms)\n",
      "downloading https://repo1.maven.org/maven2/org/xerial/snappy/snappy-java/1.1.10.3/snappy-java-1.1.10.3.jar ...\n",
      "\t[SUCCESSFUL ] org.xerial.snappy#snappy-java;1.1.10.3!snappy-java.jar(bundle) (102ms)\n",
      "downloading https://repo1.maven.org/maven2/org/slf4j/slf4j-api/2.0.7/slf4j-api-2.0.7.jar ...\n",
      "\t[SUCCESSFUL ] org.slf4j#slf4j-api;2.0.7!slf4j-api.jar (59ms)\n",
      "downloading https://repo1.maven.org/maven2/org/apache/hadoop/hadoop-client-api/3.3.4/hadoop-client-api-3.3.4.jar ...\n",
      "\t[SUCCESSFUL ] org.apache.hadoop#hadoop-client-api;3.3.4!hadoop-client-api.jar (801ms)\n",
      "downloading https://repo1.maven.org/maven2/commons-logging/commons-logging/1.1.3/commons-logging-1.1.3.jar ...\n",
      "\t[SUCCESSFUL ] commons-logging#commons-logging;1.1.3!commons-logging.jar (39ms)\n",
      ":: resolution report :: resolve 6300ms :: artifacts dl 2603ms\n",
      "\t:: modules in use:\n",
      "\tcom.google.code.findbugs#jsr305;3.0.0 from central in [default]\n",
      "\tcommons-logging#commons-logging;1.1.3 from central in [default]\n",
      "\torg.apache.commons#commons-pool2;2.11.1 from central in [default]\n",
      "\torg.apache.hadoop#hadoop-client-api;3.3.4 from central in [default]\n",
      "\torg.apache.hadoop#hadoop-client-runtime;3.3.4 from central in [default]\n",
      "\torg.apache.kafka#kafka-clients;3.4.1 from central in [default]\n",
      "\torg.apache.spark#spark-sql-kafka-0-10_2.12;3.5.1 from central in [default]\n",
      "\torg.apache.spark#spark-token-provider-kafka-0-10_2.12;3.5.1 from central in [default]\n",
      "\torg.lz4#lz4-java;1.8.0 from central in [default]\n",
      "\torg.slf4j#slf4j-api;2.0.7 from central in [default]\n",
      "\torg.xerial.snappy#snappy-java;1.1.10.3 from central in [default]\n",
      "\t---------------------------------------------------------------------\n",
      "\t|                  |            modules            ||   artifacts   |\n",
      "\t|       conf       | number| search|dwnlded|evicted|| number|dwnlded|\n",
      "\t---------------------------------------------------------------------\n",
      "\t|      default     |   11  |   11  |   11  |   0   ||   11  |   11  |\n",
      "\t---------------------------------------------------------------------\n",
      ":: retrieving :: org.apache.spark#spark-submit-parent-4435bdd6-8030-4d13-ad31-afeb988f3df7\n",
      "\tconfs: [default]\n",
      "\t11 artifacts copied, 0 already retrieved (56767kB/37ms)\n",
      "24/03/14 12:45:05 WARN NativeCodeLoader: Unable to load native-hadoop library for your platform... using builtin-java classes where applicable\n",
      "Setting default log level to \"WARN\".\n",
      "To adjust logging level use sc.setLogLevel(newLevel). For SparkR, use setLogLevel(newLevel).\n"
     ]
    },
    {
     "name": "stderr",
     "output_type": "stream",
     "text": [
      "24/03/14 12:45:18 WARN GarbageCollectionMetrics: To enable non-built-in garbage collector(s) List(G1 Concurrent GC), users should configure it(them) to spark.eventLog.gcMetrics.youngGenerationGarbageCollectors or spark.eventLog.gcMetrics.oldGenerationGarbageCollectors\n"
     ]
    }
   ],
   "source": [
    "spark = SparkSession \\\n",
    "    .builder \\\n",
    "    .master(\"local[*]\") \\\n",
    "    .appName(\"GreenTripsConsumer\") \\\n",
    "    .config(\"spark.jars.packages\", kafka_jar_package) \\\n",
    "    .getOrCreate()"
   ]
  },
  {
   "cell_type": "code",
   "execution_count": 4,
   "metadata": {},
   "outputs": [],
   "source": [
    "green_stream = spark \\\n",
    "    .readStream \\\n",
    "    .format(\"kafka\") \\\n",
    "    .option(\"kafka.bootstrap.servers\", \"localhost:9092\") \\\n",
    "    .option(\"subscribe\", \"green-trips\") \\\n",
    "    .option(\"startingOffsets\", \"earliest\") \\\n",
    "    .load()"
   ]
  },
  {
   "cell_type": "code",
   "execution_count": 5,
   "metadata": {},
   "outputs": [
    {
     "name": "stderr",
     "output_type": "stream",
     "text": [
      "24/03/14 13:46:31 WARN ResolveWriteToStream: Temporary checkpoint location created which is deleted normally when the query didn't fail: /private/var/folders/r6/4c778b992hv25hqynjsb5f380000gn/T/temporary-1cdb52c3-e328-48c2-9733-ed9bd9a238e6. If it's required to delete it under any circumstances, please set spark.sql.streaming.forceDeleteTempCheckpointLocation to true. Important to know deleting temp checkpoint folder is best effort.\n",
      "24/03/14 13:46:31 WARN ResolveWriteToStream: spark.sql.adaptive.enabled is not supported in streaming DataFrames/Datasets and will be disabled.\n"
     ]
    },
    {
     "name": "stderr",
     "output_type": "stream",
     "text": [
      "24/03/14 13:46:31 WARN AdminClientConfig: These configurations '[key.deserializer, value.deserializer, enable.auto.commit, max.poll.records, auto.offset.reset]' were supplied but are not used yet.\n"
     ]
    },
    {
     "name": "stdout",
     "output_type": "stream",
     "text": [
      "Row(key=None, value=bytearray(b'{\"lpep_pickup_datetime\": \"2019-10-01 00:26:02\", \"lpep_dropoff_datetime\": \"2019-10-01 00:39:58\", \"PULocationID\": 112, \"DOLocationID\": 196, \"passenger_count\": 1.0, \"trip_distance\": 5.88, \"tip_amount\": 0.0}'), topic='green-trips', partition=0, offset=0, timestamp=datetime.datetime(2024, 3, 14, 11, 47, 59, 955000), timestampType=0)\n"
     ]
    }
   ],
   "source": [
    "def peek(mini_batch, batch_id):\n",
    "    first_row = mini_batch.take(1)\n",
    "\n",
    "    if first_row:\n",
    "        print(first_row[0])\n",
    "\n",
    "query = green_stream.writeStream.foreachBatch(peek).start()"
   ]
  },
  {
   "cell_type": "code",
   "execution_count": 6,
   "metadata": {},
   "outputs": [],
   "source": [
    "query.stop()"
   ]
  },
  {
   "cell_type": "code",
   "execution_count": 7,
   "metadata": {},
   "outputs": [],
   "source": [
    "from pyspark.sql import types\n",
    "\n",
    "schema = types.StructType() \\\n",
    "    .add(\"lpep_pickup_datetime\", types.StringType()) \\\n",
    "    .add(\"lpep_dropoff_datetime\", types.StringType()) \\\n",
    "    .add(\"PULocationID\", types.IntegerType()) \\\n",
    "    .add(\"DOLocationID\", types.IntegerType()) \\\n",
    "    .add(\"passenger_count\", types.DoubleType()) \\\n",
    "    .add(\"trip_distance\", types.DoubleType()) \\\n",
    "    .add(\"tip_amount\", types.DoubleType())"
   ]
  },
  {
   "cell_type": "code",
   "execution_count": 8,
   "metadata": {},
   "outputs": [],
   "source": [
    "from pyspark.sql import functions as F\n",
    "\n",
    "green_stream = green_stream \\\n",
    "  .select(F.from_json(F.col(\"value\").cast('STRING'), schema).alias(\"data\")) \\\n",
    "  .select(\"data.*\")"
   ]
  },
  {
   "cell_type": "code",
   "execution_count": 9,
   "metadata": {},
   "outputs": [
    {
     "name": "stderr",
     "output_type": "stream",
     "text": [
      "24/03/14 13:47:44 WARN ResolveWriteToStream: Temporary checkpoint location created which is deleted normally when the query didn't fail: /private/var/folders/r6/4c778b992hv25hqynjsb5f380000gn/T/temporary-36da9eb2-e333-4345-a056-ab2fd55dd84c. If it's required to delete it under any circumstances, please set spark.sql.streaming.forceDeleteTempCheckpointLocation to true. Important to know deleting temp checkpoint folder is best effort.\n",
      "24/03/14 13:47:44 WARN ResolveWriteToStream: spark.sql.adaptive.enabled is not supported in streaming DataFrames/Datasets and will be disabled.\n"
     ]
    },
    {
     "name": "stderr",
     "output_type": "stream",
     "text": [
      "24/03/14 13:47:44 WARN AdminClientConfig: These configurations '[key.deserializer, value.deserializer, enable.auto.commit, max.poll.records, auto.offset.reset]' were supplied but are not used yet.\n"
     ]
    },
    {
     "name": "stdout",
     "output_type": "stream",
     "text": [
      "Row(lpep_pickup_datetime='2019-10-01 00:26:02', lpep_dropoff_datetime='2019-10-01 00:39:58', PULocationID=112, DOLocationID=196, passenger_count=1.0, trip_distance=5.88, tip_amount=0.0)\n"
     ]
    }
   ],
   "source": [
    "query = green_stream.writeStream.foreachBatch(peek).start()"
   ]
  },
  {
   "cell_type": "code",
   "execution_count": null,
   "metadata": {},
   "outputs": [],
   "source": []
  }
 ],
 "metadata": {
  "kernelspec": {
   "display_name": "ml-zoomcamp",
   "language": "python",
   "name": "python3"
  },
  "language_info": {
   "codemirror_mode": {
    "name": "ipython",
    "version": 3
   },
   "file_extension": ".py",
   "mimetype": "text/x-python",
   "name": "python",
   "nbconvert_exporter": "python",
   "pygments_lexer": "ipython3",
   "version": "3.9.18"
  }
 },
 "nbformat": 4,
 "nbformat_minor": 2
}
